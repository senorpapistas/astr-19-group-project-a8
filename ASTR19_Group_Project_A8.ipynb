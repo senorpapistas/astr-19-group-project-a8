{
 "cells": [
  {
   "cell_type": "markdown",
   "id": "3d15435a",
   "metadata": {},
   "source": [
    "# Tidal Report"
   ]
  },
  {
   "cell_type": "code",
   "execution_count": null,
   "id": "ad9f27de",
   "metadata": {},
   "outputs": [],
   "source": [
    "import matplotlib.pyplot as plt\n",
    "import numpy as np\n",
    "from scipy import optimize"
   ]
  },
  {
   "cell_type": "code",
   "execution_count": null,
   "id": "fb38c6a6",
   "metadata": {},
   "outputs": [],
   "source": [
    "day = np.genfromtxt(\"ASTR19_S22_group_project_data.txt\", dtype = \"float\", skip_header = 3, usecols = 0)\n",
    "time_day = np.genfromtxt(\"ASTR19_S22_group_project_data.txt\", dtype = \"str\", skip_header = 3, usecols = 1)\n",
    "tide_height = np.genfromtxt(\"ASTR19_S22_group_project_data.txt\", dtype = \"float\", skip_header = 3, usecols = 2)\n",
    "for i in range(len(time_day)):\n",
    "    split_time = time_day[i].split(\":\")\n",
    "    time = (int(split_time[0]) + (int(split_time[1]) / 60)) / 24\n",
    "    time_day[i] = time\n",
    "    day[i] = day[i] + time"
   ]
  },
  {
   "cell_type": "code",
   "execution_count": null,
   "id": "9fca7517",
   "metadata": {},
   "outputs": [],
   "source": [
    "plt.plot(day, tide_height)\n",
    "plt.xlabel(\"Days Since Jan 1 2022\")\n",
    "plt.ylabel(\"Height of Tide\")\n",
    "plt.savefig(\"tidal_report_figure.pdf\")"
   ]
  },
  {
   "cell_type": "markdown",
   "id": "3c153ed6",
   "metadata": {},
   "source": [
    "### Definitely sinusoidal function\n",
    "#### Just gotta figure out what to do next"
   ]
  }
 ],
 "metadata": {
  "kernelspec": {
   "display_name": "Python 3 (ipykernel)",
   "language": "python",
   "name": "python3"
  },
  "language_info": {
   "codemirror_mode": {
    "name": "ipython",
    "version": 3
   },
   "file_extension": ".py",
   "mimetype": "text/x-python",
   "name": "python",
   "nbconvert_exporter": "python",
   "pygments_lexer": "ipython3",
   "version": "3.10.4"
  }
 },
 "nbformat": 4,
 "nbformat_minor": 5
}
