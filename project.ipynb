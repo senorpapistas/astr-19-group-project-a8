{
 "cells": [
  {
   "cell_type": "code",
   "execution_count": null,
   "metadata": {},
   "outputs": [],
   "source": [
    "tsunami_tide_height = tide_height - y_fit\n",
    "tsunami_day = day\n",
    "tsunami_day = np.insert(tsunami_day, 26, 14.5)\n",
    "tsunami_tide_height = np.insert(tsunami_tide_height, 26, 2)"
   ]
  },
  {
   "cell_type": "code",
   "execution_count": null,
   "metadata": {},
   "outputs": [],
   "source": [
    "plt.plot(tsunami_day, tsunami_tide_height, label = \"tsunami\")\n",
    "plt.plot(day, tide_height - y_fit, label = \"regular tide\")\n",
    "plt.xlabel(\"Days Since Jan 1 2022\")\n",
    "plt.ylabel(\"Height of Tide\")\n",
    "plt.legend(loc = \"upper right\", frameon = False)\n",
    "plt.savefig(\"tidal_report_tsunami_figure.pdf\")"
   ]
  },
  {
   "cell_type": "code",
   "execution_count": null,
   "metadata": {},
   "outputs": [],
   "source": [
    "plt.hist(tsunami_tide_height, bins = 20, edgecolor = \"black\", label = \"tsunami residuals\")\n",
    "plt.xlabel(\"Height of Tide\")\n",
    "plt.ylabel(\"Frequency\")\n",
    "plt.legend(loc = 0, frameon = False)\n",
    "plt.savefig(\"tidal_report_histogram.pdf\")"
   ]
  },
  {
   "cell_type": "code",
   "execution_count": null,
   "metadata": {},
   "outputs": [],
   "source": [
    "# How large of a deviation is this tsunami, in terms of standard deviations of the distribution of normal tides from the model?\n",
    "print(2/np.sqrt(np.std(tide_height - y_fit)**2-0.25**2))"
   ]
  }
 ],
 "metadata": {
  "language_info": {
   "name": "python"
  },
  "orig_nbformat": 4
 },
 "nbformat": 4,
 "nbformat_minor": 2
}
